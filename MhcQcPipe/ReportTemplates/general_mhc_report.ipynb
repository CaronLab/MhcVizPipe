{
 "cells": [
  {
   "cell_type": "code",
   "execution_count": null,
   "metadata": {},
   "outputs": [],
   "source": [
    "import plotly.graph_objects as go\n",
    "import plotly.express as px\n",
    "import numpy as np\n",
    "from labserverapps.predictors.mhc_peptides import PeptideAffinityPredictions\n",
    "from IPython.display import display, Markdown\n",
    "import plotly.figure_factory as ff\n",
    "from scipy.spatial.distance import pdist, squareform\n",
    "import seaborn as sns\n",
    "from datetime import datetime\n",
    "from pathlib import Path\n",
    "from matplotlib.colors import LinearSegmentedColormap\n",
    "import matplotlib.pyplot as plt"
   ]
  },
  {
   "cell_type": "code",
   "execution_count": null,
   "metadata": {
    "tags": [
     "parameters"
    ]
   },
   "outputs": [],
   "source": [
    "peptide_file = '/home/labcaron/Projects/LabWebApp/example.csv'\n",
    "pep_header = 'Peptide'\n",
    "alleles = 'HLA-A03:02,HLA-A02:02'\n",
    "min_length = 8\n",
    "max_length = 14\n",
    "pep_file_delimiter = ','\n",
    "experiment_name = 'unnamed'\n",
    "submitter = None"
   ]
  },
  {
   "cell_type": "code",
   "execution_count": null,
   "metadata": {},
   "outputs": [],
   "source": [
    "p = PeptideAffinityPredictions(peptide_file=peptide_file,\n",
    "                               pep_header=pep_header,\n",
    "                               pep_file_delimiter=pep_file_delimiter,\n",
    "                               alleles=alleles,\n",
    "                               min_length=min_length,\n",
    "                               max_length=max_length)"
   ]
  },
  {
   "cell_type": "code",
   "execution_count": null,
   "metadata": {},
   "outputs": [],
   "source": [
    "p.make_netmhcpan4_predictions()"
   ]
  },
  {
   "cell_type": "code",
   "execution_count": null,
   "metadata": {},
   "outputs": [],
   "source": [
    "p.annotate_binding_predictions()\n",
    "f = Path(peptide_file)\n",
    "p.annotated_predictions.to_csv(str(f.parent/f.stem)+'_netMHCpan_results.csv', index=False)"
   ]
  },
  {
   "cell_type": "code",
   "execution_count": null,
   "metadata": {},
   "outputs": [],
   "source": [
    "n_peps = len(p.peptides)\n",
    "n_unique_peps = len(p.annotated_predictions['Peptide']['Peptide'].unique())\n",
    "lengths = np.vectorize(len)(p.peptides)\n",
    "unique_lengths = np.vectorize(len)(p.annotated_predictions['Peptide']['Peptide'].unique())\n",
    "total_within_lengths = np.sum((lengths >= min_length)*(lengths <= max_length))\n",
    "unique_within_lengths = np.sum((unique_lengths >= min_length)*(unique_lengths <= max_length))\n",
    "\n",
    "annotation = p.annotated_predictions['Annotation']\n",
    "peps = p.annotated_predictions['Peptide']\n",
    "\n",
    "total_n_strong = len(peps.loc[annotation['Binding Strength']=='Strong', 'Peptide'].values)\n",
    "unique_n_strong = len(peps.loc[annotation['Binding Strength']=='Strong', 'Peptide'].unique())\n",
    "\n",
    "total_n_medium = len(peps.loc[annotation['Binding Strength']=='Medium', 'Peptide'].values)\n",
    "unique_n_medium = len(peps.loc[annotation['Binding Strength']=='Medium', 'Peptide'].unique())\n",
    "\n",
    "total_n_weak = len(peps.loc[annotation['Binding Strength']=='Weak', 'Peptide'].values)\n",
    "unique_n_weak = len(peps.loc[annotation['Binding Strength']=='Weak', 'Peptide'].unique())"
   ]
  },
  {
   "cell_type": "code",
   "execution_count": null,
   "metadata": {},
   "outputs": [],
   "source": [
    "%%html\n",
    "<style>\n",
    "  table {margin-left: 5pt !important;}\n",
    "</style>"
   ]
  },
  {
   "cell_type": "code",
   "execution_count": null,
   "metadata": {},
   "outputs": [],
   "source": [
    "Markdown(f'''\n",
    "# MHC-associated peptides report\n",
    "\n",
    "Experiment: {experiment_name}  \n",
    "Date: {str(datetime.date(datetime.now()))}  \n",
    "File: {peptide_file}  \n",
    "Submitted by: {submitter}\n",
    "\n",
    "### Notes on allele annotation\n",
    "Annotation of peptides with alleles is according to percent rank as reported by netMHCpan. Peptides are simply\n",
    "annotated with the allele with the best rank. Rank <= 0.5 is considered strong binding, 0.5 < rank <= 2.0\n",
    "is considered medium binding, and rank > 2.0 is considered weak binding. Even if a peptide has strong binding\n",
    "for more than one allele, it will be annotated with only one. However, you will be able to see in the heatmaps\n",
    "when there are clusters of peptides with similar binding strengths for multiple alleles regardless of their\n",
    "annotation.\n",
    "\n",
    "## General description\n",
    "| |Total Peptides|Unique Peptides|\n",
    "|---|---|---|\n",
    "|Identified sequences | {n_peps}| {n_unique_peps}|\n",
    "|Between {min_length} & {max_length} mers (inclusive)| {total_within_lengths}|{unique_within_lengths}|\n",
    "|Strong binders|{total_n_strong}|{unique_n_strong}|\n",
    "|Medium binders|{total_n_medium}|{unique_n_medium}|\n",
    "|Weak binders|{total_n_weak}|{unique_n_weak}|\n",
    "|% Strong binders|{round((total_n_strong/n_peps)*100, 2)}|{round((unique_n_strong/n_unique_peps)*100, 2)}|\n",
    "''')"
   ]
  },
  {
   "cell_type": "code",
   "execution_count": null,
   "metadata": {},
   "outputs": [],
   "source": [
    "# here we need to generate an allele-specific table like the above...\n",
    "# do it with display and Markdown from Ipython\n",
    "header = '||'+'|'.join([x for x in p.df_alleles])+'|\\n'\n",
    "thing_under_header = '|---|'+''.join(['---|' for x in p.df_alleles])+'\\n'\n",
    "\n",
    "total_unique = '|Total peptides|'+'|'.join([str(len(peps.loc[(annotation['Allele']==a), 'Peptide'].unique()))\n",
    "                                       for a in p.df_alleles])+'|\\n'\n",
    "\n",
    "unique_strong_binders = '|Strong binders|'+'|'.join([str(len(peps.loc[(annotation['Allele']==a)\n",
    "                                                &(annotation['Binding Strength']=='Strong'), 'Peptide'].unique()))\n",
    "                                       for a in p.df_alleles])+'|\\n'\n",
    "\n",
    "unique_medium_binders = '|Medium binders|'+'|'.join([str(len(peps.loc[(annotation['Allele']==a)\n",
    "                                                &(annotation['Binding Strength']=='Medium'), 'Peptide'].unique()))\n",
    "                                       for a in p.df_alleles])+'|\\n'\n",
    "\n",
    "unique_weak_binders = '|Weak binders|'+'|'.join([str(len(peps.loc[(annotation['Allele']==a)\n",
    "                                                &(annotation['Binding Strength']=='Weak'), 'Peptide'].unique()))\n",
    "                                       for a in p.df_alleles])+'|\\n'\n",
    "\n",
    "percent_strong_binders = '|% Strong binders|'+'|'.join([str(round(\n",
    "    len(peps.loc[(annotation['Allele']==a)&(annotation['Binding Strength']=='Strong'), 'Peptide'].unique())/\n",
    "    len(peps.loc[(annotation['Allele']==a), 'Peptide'].unique())*100, 2))\n",
    "                                       for a in p.df_alleles])+'|'"
   ]
  },
  {
   "cell_type": "code",
   "execution_count": null,
   "metadata": {},
   "outputs": [],
   "source": [
    "display(Markdown('## Allele-specific description'))\n",
    "\n",
    "desc = 'Counts of unique peptide sequences for strong, medium and weak binders.'\n",
    "\n",
    "display(Markdown(desc))\n",
    "display(Markdown(header+\n",
    "                 thing_under_header+\n",
    "                 total_unique+\n",
    "                 unique_strong_binders+\n",
    "                 unique_medium_binders+\n",
    "                 unique_weak_binders+\n",
    "                 percent_strong_binders))"
   ]
  },
  {
   "cell_type": "markdown",
   "metadata": {},
   "source": [
    "## Figures"
   ]
  },
  {
   "cell_type": "code",
   "execution_count": null,
   "metadata": {},
   "outputs": [],
   "source": [
    "fig = go.Figure()\n",
    "fig.add_trace(go.Bar(\n",
    "    x = p.df_alleles,\n",
    "    y = [len(peps.loc[annotation['Allele']==allele, 'Peptide'].unique()) for allele in p.df_alleles],\n",
    "    name = 'All binders'\n",
    "))\n",
    "fig.add_trace(go.Bar(\n",
    "    x = p.df_alleles,\n",
    "    y = [len(peps.loc[(annotation['Allele']==allele)&(annotation['Binding Strength']=='Strong'), 'Peptide']\n",
    "             .unique()) for allele in p.df_alleles],\n",
    "    name = 'Strong binders'\n",
    "))\n",
    "\n",
    "fig.update_layout(\n",
    "    title_text='Number of unique sequences per allele', # title of plot\n",
    "    xaxis_title_text='Allele', # xaxis label\n",
    "    yaxis_title_text='Peptide count', # yaxis label\n",
    "    template='ggplot2'\n",
    ")\n",
    "fig.show()"
   ]
  },
  {
   "cell_type": "code",
   "execution_count": null,
   "metadata": {},
   "outputs": [],
   "source": [
    "display(Markdown('## Peptide length distributions'))\n",
    "desc = 'Histograms of peptide lengths. All distributions are of unique peptide sequences only. ' +\\\n",
    "    'Histograms are generated for all peptides, and then grouped by allele for strong, medium and weak binders.'\n",
    "display(Markdown(desc))\n",
    "\n",
    "display(Markdown(f'### All peptides'))\n",
    "fig = go.Figure()\n",
    "for allele in p.df_alleles:\n",
    "    lengths = peps.loc[annotation['Allele']==allele, 'Peptide'].unique()\n",
    "    if len(lengths) > 0:\n",
    "        lengths = np.vectorize(len)(lengths)\n",
    "    else:\n",
    "        lengths = []\n",
    "    fig.add_trace(go.Histogram(\n",
    "        x=lengths,\n",
    "        name=allele\n",
    "    ))\n",
    "\n",
    "fig.update_layout(\n",
    "    title_text=f'Peptide length distribution, all binders', # title of plot\n",
    "    xaxis_title_text='Length', # xaxis label\n",
    "    yaxis_title_text='Count', # yaxis label\n",
    "    bargap=0.2, # gap between bars of adjacent location coordinates\n",
    "    bargroupgap=0.1, # gap between bars of the same location coordinates\n",
    "    template='ggplot2'\n",
    ")\n",
    "fig.show()\n",
    "\n",
    "for strength in ['Strong', 'Medium', 'Weak']:\n",
    "    if strength == 'Strong':\n",
    "        info_str = '% rank <= 0.5'\n",
    "    elif strength == 'Medium':\n",
    "        info_str = '0.5 < %rank <= 2.0'\n",
    "    else:\n",
    "        info_str = '% rank > 2.0'\n",
    "    display(Markdown(f'### {strength} binders ({info_str})'))\n",
    "    fig = go.Figure()\n",
    "    all_lengths = []\n",
    "    for allele in p.df_alleles:\n",
    "        lengths = peps.loc[(annotation['Allele']==allele)&\n",
    "                           (annotation['Binding Strength']==strength), 'Peptide'].unique()\n",
    "        if len(lengths) > 0:\n",
    "            lengths = np.vectorize(len)(lengths)\n",
    "        else:\n",
    "            lengths = []\n",
    "        all_lengths.append(lengths)\n",
    "        fig.add_trace(go.Histogram(\n",
    "            x=lengths,\n",
    "            name=allele\n",
    "        ))\n",
    "\n",
    "    fig.update_layout(\n",
    "        title_text=f'Peptide length distribution, {strength.lower()} binders', # title of plot\n",
    "        xaxis_title_text='Length', # xaxis label\n",
    "        yaxis_title_text='Count', # yaxis label\n",
    "        bargap=0.2, # gap between bars of adjacent location coordinates\n",
    "        bargroupgap=0.1, # gap between bars of the same location coordinates\n",
    "        template='ggplot2'\n",
    "    )\n",
    "    if np.sum([len(x) for x in all_lengths]) == 0:\n",
    "        display(Markdown(f'No {strength.lower()} binders'))\n",
    "        continue\n",
    "    else:\n",
    "        fig.show()"
   ]
  },
  {
   "cell_type": "markdown",
   "metadata": {},
   "source": [
    "## Heatmaps\n",
    "Heatmaps of ordered binding affinity ranks. Ranks for every allele are used, regardless of annotation.\n",
    "\n",
    "The ranks are adjusted such that all ranks above 2.5 are assigned a value of 2.5. This allows the clustering to be most heavily influenced by the strong and medium binding peptides."
   ]
  },
  {
   "cell_type": "code",
   "execution_count": null,
   "metadata": {},
   "outputs": [],
   "source": [
    "sns.set(font_scale=1.25)\n",
    "\n",
    "data = p.annotated_predictions.loc[:, (p.df_alleles, 'Rank')]\n",
    "data[data>2.5] = 2.5\n",
    "\n",
    "colors = [\"#f53b3b\", \"#bd0b0b\", \"#08870d\", \"#026b06\", \"#00234f\", \"#1f1f1f\"]\n",
    "nodes = [0, 0.4/2.5, 0.7/2.5, 1.9/2.5, 2.2/2.5, 1]\n",
    "cmap = LinearSegmentedColormap.from_list(\"mycmap\", list(zip(nodes, colors)))\n",
    "\n",
    "xticklabels = [x[0] for x in data.columns]"
   ]
  },
  {
   "cell_type": "markdown",
   "metadata": {},
   "source": [
    "#### Ordered heatmap\n",
    "Peptides are ordered according to percent rank, starting left-to-right. E.g. First all columns are ordered according to the ranks in the left-most column. Next, all ties (mostly where the left-hand column = 2.5) are ordered according to the next column, and this continues until all columns have been considered.\n",
    "\n",
    "The colorscale is set such that (approximately) strong binders are represented in red, medium binders in green, and weak bindings fading from dark blue to black. The color scheme is designed to be gray-scale- and colorblind-friendly."
   ]
  },
  {
   "cell_type": "code",
   "execution_count": null,
   "metadata": {},
   "outputs": [],
   "source": [
    "# make a sorted heatmap\n",
    "plt.figure(figsize=(12, 8))\n",
    "g = sns.heatmap(data.sort_values(list(data.columns), ascending=False), cmap=cmap, yticklabels=False,\n",
    "                xticklabels=xticklabels, vmax=2.5)\n",
    "g.set_xlabel('')"
   ]
  },
  {
   "cell_type": "code",
   "execution_count": null,
   "metadata": {},
   "outputs": [],
   "source": [
    "'''\n",
    "#### Clustered heatmap\n",
    "Peptides are clustered according to binding rank and the results shown in a heatmap. The [linkage method](https://docs.scipy.org/doc/scipy/reference/generated/scipy.cluster.hierarchy.linkage.html) used is 'ward', and the [distance metric](https://docs.scipy.org/doc/scipy/reference/generated/scipy.spatial.distance.pdist.html) is 'euclidean'.\n",
    "'''"
   ]
  },
  {
   "cell_type": "code",
   "execution_count": null,
   "metadata": {},
   "outputs": [],
   "source": [
    "'''\n",
    "# make a clustered heatmap\n",
    "plt.figure(figsize=(12, 8))\n",
    "g = sns.clustermap(data.sort_values(list(data.columns)), cmap=cmap, method='complete', metric='euclidean',\n",
    "                   dendrogram_ratio=(0.15,0.1), yticklabels=False, cbar_pos=(1,0.3,0.05,0.5),\n",
    "                   xticklabels=xticklabels, vmax=2.5)\n",
    "g.ax_heatmap.set_xlabel('')\n",
    "'''"
   ]
  }
 ],
 "metadata": {
  "celltoolbar": "Tags",
  "jupytext": {
   "formats": "ipynb,md"
  },
  "kernelspec": {
   "display_name": "Python 3",
   "language": "python",
   "name": "python3"
  },
  "language_info": {
   "codemirror_mode": {
    "name": "ipython",
    "version": 3
   },
   "file_extension": ".py",
   "mimetype": "text/x-python",
   "name": "python",
   "nbconvert_exporter": "python",
   "pygments_lexer": "ipython3",
   "version": "3.7.5"
  }
 },
 "nbformat": 4,
 "nbformat_minor": 4
}
